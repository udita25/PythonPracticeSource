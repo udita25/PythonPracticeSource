{
 "cells": [
  {
   "cell_type": "code",
   "execution_count": null,
   "metadata": {},
   "outputs": [
    {
     "name": "stdout",
     "output_type": "stream",
     "text": [
      "5 23 6 222\n"
     ]
    }
   ],
   "source": [
    "#Operator Polymorphism\n",
    "a = 2 + 3\n",
    "b = '2' + '3'\n",
    "c = 2 * 3\n",
    "d = '2' * 3\n",
    "print(a, b, c, d)"
   ]
  },
  {
   "cell_type": "code",
   "execution_count": 2,
   "metadata": {},
   "outputs": [
    {
     "name": "stdout",
     "output_type": "stream",
     "text": [
      "5\n",
      "2\n"
     ]
    }
   ],
   "source": [
    "# Function Polymorphism\n",
    "print(len('Robin'))\n",
    "print(len([1, 2 ]))"
   ]
  },
  {
   "cell_type": "code",
   "execution_count": 3,
   "metadata": {},
   "outputs": [],
   "source": [
    "#class Polymorphism\n",
    "class Book():\n",
    "    def __init__(self, name, pages):\n",
    "        self.name = name\n",
    "        self.pages = pages\n",
    "    \n",
    "    def description(self):\n",
    "        return \"Book name: %s\" % self.name + \" pages: %s\" %self.pages\n",
    "    "
   ]
  },
  {
   "cell_type": "code",
   "execution_count": 4,
   "metadata": {},
   "outputs": [],
   "source": [
    "class Movie():\n",
    "    def __init__(self, name, duration):\n",
    "        self.name = name\n",
    "        self.duration = duration\n",
    "    \n",
    "    def description(self):\n",
    "        return f\"{self.name} - {self.duration} minutes\"\n",
    "    "
   ]
  },
  {
   "cell_type": "code",
   "execution_count": 5,
   "metadata": {},
   "outputs": [],
   "source": [
    "book1 = Book('Alchemist', 220)\n",
    "book2 = Book('Harry Potter', 300)\n",
    "movie1 = Movie('Aladdin', 120)\n",
    "movie2 = Movie('Avengers', 180)"
   ]
  },
  {
   "cell_type": "code",
   "execution_count": null,
   "metadata": {},
   "outputs": [],
   "source": [
    "p = book1.description()\n",
    "q = book2.description()\n",
    "r = movie1.description()\n",
    "s = movie2.description()\n",
    "#description method works differently for every class and object"
   ]
  },
  {
   "cell_type": "code",
   "execution_count": 10,
   "metadata": {},
   "outputs": [
    {
     "name": "stdout",
     "output_type": "stream",
     "text": [
      "Book name: Alchemist pages: 220\n",
      "Book name: Harry Potter pages: 300\n",
      "Aladdin - 120 minutes\n",
      "Avengers - 180 minutes\n"
     ]
    }
   ],
   "source": [
    "print(p)\n",
    "print(q)\n",
    "print(r)\n",
    "print(s)"
   ]
  }
 ],
 "metadata": {
  "kernelspec": {
   "display_name": "Python 3",
   "language": "python",
   "name": "python3"
  },
  "language_info": {
   "codemirror_mode": {
    "name": "ipython",
    "version": 3
   },
   "file_extension": ".py",
   "mimetype": "text/x-python",
   "name": "python",
   "nbconvert_exporter": "python",
   "pygments_lexer": "ipython3",
   "version": "3.10.11"
  }
 },
 "nbformat": 4,
 "nbformat_minor": 2
}

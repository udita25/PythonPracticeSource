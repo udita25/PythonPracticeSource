{
 "cells": [
  {
   "cell_type": "code",
   "execution_count": 2,
   "id": "5886dc8b",
   "metadata": {},
   "outputs": [
    {
     "name": "stdout",
     "output_type": "stream",
     "text": [
      "Hello world\n"
     ]
    }
   ],
   "source": [
    "print(\"Hello world\")"
   ]
  },
  {
   "cell_type": "code",
   "execution_count": 3,
   "id": "88873f47",
   "metadata": {},
   "outputs": [
    {
     "name": "stdout",
     "output_type": "stream",
     "text": [
      "Name:  Alice\n",
      "Age: 25\n",
      "Height:  5.4\n",
      "Is he/she a student?:  True\n"
     ]
    }
   ],
   "source": [
    "name = \"Alice\"         # String\n",
    "age = 25               # Integer\n",
    "height = 5.4           # Float\n",
    "is_student = True      # Boolean\n",
    "print(\"Name: \", name)\n",
    "print(\"Age:\", age)\n",
    "print(\"Height: \",height)\n",
    "print(\"Is he/she a student?: \", is_student)"
   ]
  },
  {
   "cell_type": "code",
   "execution_count": 4,
   "id": "702294e4",
   "metadata": {},
   "outputs": [
    {
     "name": "stdout",
     "output_type": "stream",
     "text": [
      "Hello, Joe\n"
     ]
    }
   ],
   "source": [
    "name = input(\"Enter your name: \")\n",
    "print(\"Hello,\", name)\n"
   ]
  },
  {
   "cell_type": "code",
   "execution_count": 5,
   "id": "45e823ec",
   "metadata": {},
   "outputs": [
    {
     "name": "stdout",
     "output_type": "stream",
     "text": [
      "You're an adult.\n"
     ]
    }
   ],
   "source": [
    "age = int(input(\"Enter your age: \"))\n",
    "if age >= 18:\n",
    "    print(\"You're an adult.\")\n",
    "else:\n",
    "    print(\"You're a minor.\")\n"
   ]
  },
  {
   "cell_type": "code",
   "execution_count": 6,
   "id": "32a6279e",
   "metadata": {},
   "outputs": [
    {
     "name": "stdout",
     "output_type": "stream",
     "text": [
      "0\n",
      "1\n",
      "2\n",
      "3\n",
      "4\n"
     ]
    }
   ],
   "source": [
    "for i in range(5):\n",
    "    print(i)\n"
   ]
  },
  {
   "cell_type": "code",
   "execution_count": 7,
   "id": "b1346500",
   "metadata": {},
   "outputs": [
    {
     "name": "stdout",
     "output_type": "stream",
     "text": [
      "1\n",
      "2\n",
      "3\n",
      "4\n",
      "5\n"
     ]
    }
   ],
   "source": [
    "count = 1\n",
    "while count <= 5:\n",
    "    print(count)\n",
    "    count += 1\n"
   ]
  },
  {
   "cell_type": "code",
   "execution_count": 8,
   "id": "4ae8c769",
   "metadata": {},
   "outputs": [
    {
     "name": "stdout",
     "output_type": "stream",
     "text": [
      "Hello, Alice\n"
     ]
    }
   ],
   "source": [
    "def greet(name):\n",
    "    print(\"Hello,\", name)\n",
    "greet(\"Alice\")\n"
   ]
  },
  {
   "cell_type": "code",
   "execution_count": 9,
   "id": "b6212d68",
   "metadata": {},
   "outputs": [
    {
     "name": "stdout",
     "output_type": "stream",
     "text": [
      "Hi uzi! You'll turn 100 in 78 years.\n"
     ]
    }
   ],
   "source": [
    "#Mini Challenge 1\n",
    "name = input(\"Enter your name: \")\n",
    "age = int(input(\"Enter your age: \"))\n",
    "years_left = 100 - age\n",
    "print(\"Hi\", name + \"!\", \"You'll turn 100 in\", years_left, \"years.\")\n"
   ]
  },
  {
   "cell_type": "code",
   "execution_count": 10,
   "id": "925ec7c3",
   "metadata": {},
   "outputs": [
    {
     "name": "stdout",
     "output_type": "stream",
     "text": [
      "apple\n"
     ]
    }
   ],
   "source": [
    "fruits = [\"apple\", \"banana\", \"mango\"]\n",
    "print(fruits[0])      # Output: apple\n"
   ]
  },
  {
   "cell_type": "code",
   "execution_count": 11,
   "id": "2c058ea2",
   "metadata": {},
   "outputs": [
    {
     "name": "stdout",
     "output_type": "stream",
     "text": [
      "3\n"
     ]
    }
   ],
   "source": [
    "fruits.append(\"orange\")   # Add an item\n",
    "fruits.remove(\"banana\")   # Remove an item\n",
    "print(len(fruits))        # Count items\n"
   ]
  },
  {
   "cell_type": "code",
   "execution_count": 12,
   "id": "a09bebc6",
   "metadata": {},
   "outputs": [
    {
     "name": "stdout",
     "output_type": "stream",
     "text": [
      "10\n"
     ]
    }
   ],
   "source": [
    "coordinates = (10, 20)\n",
    "print(coordinates[0])     # Output: 10\n"
   ]
  },
  {
   "cell_type": "code",
   "execution_count": 13,
   "id": "1cab7a7a",
   "metadata": {},
   "outputs": [
    {
     "name": "stdout",
     "output_type": "stream",
     "text": [
      "Alice\n",
      "{'name': 'Alice', 'age': 22, 'city': 'Mumbai'}\n"
     ]
    }
   ],
   "source": [
    "student = {\n",
    "    \"name\": \"Alice\",\n",
    "    \"age\": 21,\n",
    "    \"grade\": \"A\"\n",
    "}\n",
    "print(student[\"name\"])   # Output: Alice\n",
    "student[\"age\"] = 22           # Update a value\n",
    "student[\"city\"] = \"Mumbai\"    # Add a new key-value pair\n",
    "del student[\"grade\"]          # Delete a key\n",
    "\n",
    "print(student)"
   ]
  },
  {
   "cell_type": "code",
   "execution_count": 14,
   "id": "b2599012",
   "metadata": {},
   "outputs": [
    {
     "name": "stdout",
     "output_type": "stream",
     "text": [
      "{1, 3, 4, 5}\n"
     ]
    }
   ],
   "source": [
    "numbers = {1, 2, 2, 3, 4, 4}\n",
    "\n",
    "numbers.add(5)\n",
    "numbers.remove(2)\n",
    "\n",
    "print(numbers)    \n"
   ]
  },
  {
   "cell_type": "code",
   "execution_count": 15,
   "id": "bd71abce",
   "metadata": {},
   "outputs": [],
   "source": [
    "with open(\"output.txt\", \"w\") as file:\n",
    "    file.write(\"Hello, this is a test.\")\n"
   ]
  },
  {
   "cell_type": "code",
   "execution_count": 18,
   "id": "fe4d8ec7",
   "metadata": {},
   "outputs": [],
   "source": [
    "with open(\"output.txt\", \"a\") as file:\n",
    "    file.write(\"\\nAdding a new line.\")\n"
   ]
  },
  {
   "cell_type": "code",
   "execution_count": 19,
   "id": "9bb3fb3e",
   "metadata": {},
   "outputs": [
    {
     "name": "stdout",
     "output_type": "stream",
     "text": [
      "Hello, this is a test.\n",
      "Adding a new line.\n",
      "Adding a new line.\n"
     ]
    }
   ],
   "source": [
    "with open(\"output.txt\", \"r\") as file:\n",
    "    content = file.read()\n",
    "    print(content)\n"
   ]
  },
  {
   "cell_type": "code",
   "execution_count": null,
   "id": "05c8005e",
   "metadata": {},
   "outputs": [],
   "source": [
    "try:\n",
    "    number = int(input(\"Enter a number: \"))\n",
    "    print(10 / number)\n",
    "except ZeroDivisionError:\n",
    "    print(\"You can't divide by zero!\")\n",
    "except ValueError:\n",
    "    print(\"Please enter a valid number.\")\n"
   ]
  },
  {
   "cell_type": "code",
   "execution_count": null,
   "id": "6e6fbb82",
   "metadata": {},
   "outputs": [
    {
     "name": "stdout",
     "output_type": "stream",
     "text": [
      "\n",
      "Student Results:\n",
      "Alice scored 76\n",
      "Joe scored 47\n",
      "Harry scored 89\n"
     ]
    }
   ],
   "source": [
    "#Mini Challenge 3\n",
    "students = {}\n",
    "\n",
    "for i in range(3):\n",
    "    name = input(\"Enter student name: \")\n",
    "    score = int(input(\"Enter score: \"))\n",
    "    students[name] = score\n",
    "\n",
    "print(\"\\nStudent Results:\")\n",
    "for name, score in students.items():\n",
    "    print(f\"{name} scored {score}\")\n"
   ]
  }
 ],
 "metadata": {
  "kernelspec": {
   "display_name": "Python 3",
   "language": "python",
   "name": "python3"
  },
  "language_info": {
   "codemirror_mode": {
    "name": "ipython",
    "version": 3
   },
   "file_extension": ".py",
   "mimetype": "text/x-python",
   "name": "python",
   "nbconvert_exporter": "python",
   "pygments_lexer": "ipython3",
   "version": "3.10.11"
  }
 },
 "nbformat": 4,
 "nbformat_minor": 5
}
